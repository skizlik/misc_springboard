{
 "cells": [
  {
   "cell_type": "markdown",
   "metadata": {},
   "source": [
    "This exercise will require you to pull some data from the Qunadl API. Qaundl is currently the most widely used aggregator of financial market data."
   ]
  },
  {
   "cell_type": "markdown",
   "metadata": {},
   "source": [
    "As a first step, you will need to register a free account on the http://www.quandl.com website."
   ]
  },
  {
   "cell_type": "markdown",
   "metadata": {},
   "source": [
    "After you register, you will be provided with a unique API key, that you should store:"
   ]
  },
  {
   "cell_type": "code",
   "execution_count": 1,
   "metadata": {},
   "outputs": [],
   "source": [
    "# Store the API key as a string - according to PEP8, constants are always named in all upper case\n",
    "API_KEY = '<redacted>'"
   ]
  },
  {
   "cell_type": "markdown",
   "metadata": {},
   "source": [
    "Qaundl has a large number of data sources, but, unfortunately, most of them require a Premium subscription. Still, there are also a good number of free datasets."
   ]
  },
  {
   "cell_type": "markdown",
   "metadata": {},
   "source": [
    "For this mini project, we will focus on equities data from the Frankfurt Stock Exhange (FSE), which is available for free. We'll try and analyze the stock prices of a company called Carl Zeiss Meditec, which manufactures tools for eye examinations, as well as medical lasers for laser eye surgery: https://www.zeiss.com/meditec/int/home.html. The company is listed under the stock ticker AFX_X."
   ]
  },
  {
   "cell_type": "markdown",
   "metadata": {},
   "source": [
    "You can find the detailed Quandl API instructions here: https://docs.quandl.com/docs/time-series"
   ]
  },
  {
   "cell_type": "markdown",
   "metadata": {},
   "source": [
    "**Student Note:** I searched the Quandl databases for both the FSE and the stock ticker with no success so far."
   ]
  },
  {
   "cell_type": "markdown",
   "metadata": {},
   "source": [
    "While there is a dedicated Python package for connecting to the Quandl API, we would prefer that you use the *requests* package, which can be easily downloaded using *pip* or *conda*. You can find the documentation for the package here: http://docs.python-requests.org/en/master/ "
   ]
  },
  {
   "cell_type": "markdown",
   "metadata": {},
   "source": [
    "Finally, apart from the *requests* package, you are encouraged to not use any third party Python packages, such as *pandas*, and instead focus on what's available in the Python Standard Library (the *collections* module might come in handy: https://pymotw.com/3/collections/ ).\n",
    "Also, since you won't have access to DataFrames, you are encouraged to us Python's native data structures - preferably dictionaries, though some questions can also be answered using lists.\n",
    "You can read more on these data structures here: https://docs.python.org/3/tutorial/datastructures.html"
   ]
  },
  {
   "cell_type": "markdown",
   "metadata": {},
   "source": [
    "Keep in mind that the JSON responses you will be getting from the API map almost one-to-one to Python's dictionaries. Unfortunately, they can be very nested, so make sure you read up on indexing dictionaries in the documentation provided above."
   ]
  },
  {
   "cell_type": "code",
   "execution_count": 2,
   "metadata": {},
   "outputs": [],
   "source": [
    "# First, import the relevant modules\n",
    "import requests\n"
   ]
  },
  {
   "cell_type": "code",
   "execution_count": 3,
   "metadata": {},
   "outputs": [],
   "source": [
    "# perhaps it will be easier to play with this if I create variables\n",
    "# experimenting with palladium figures from LPPM database\n",
    "def quandlquery(database_code, dataset_code, start_date, end_date, format='json', api=API_KEY):\n",
    "    url = 'https://www.quandl.com/api/v3/datasets/'\n",
    "    query_url = url + database_code + '/' + dataset_code + '.' + format + '?start_date=' + start_date + '&end_date=' + end_date + '&api_key' + api\n",
    "    return(requests.get(query_url))\n",
    "\n"
   ]
  },
  {
   "cell_type": "code",
   "execution_count": 4,
   "metadata": {},
   "outputs": [],
   "source": [
    "# Now, call the Quandl API and pull out a small sample of the data (only one day) to get a glimpse\n",
    "# into the JSON structure that will be returned\n",
    "response = quandlquery('EURONEXT', 'VTX', '2019-01-01', '2019-01-31')"
   ]
  },
  {
   "cell_type": "code",
   "execution_count": 5,
   "metadata": {},
   "outputs": [
    {
     "data": {
      "text/plain": [
       "{'dataset': {'id': 43847163,\n",
       "  'dataset_code': 'VTX',\n",
       "  'database_code': 'EURONEXT',\n",
       "  'name': 'VOLUNTIS (VTX)',\n",
       "  'description': 'Stock Prices for VOLUNTIS from the Euronext Stock Exchange<br><br>Market: Euronext Paris (XPAR)<br><br>ISIN: FR0004183960<br><br>Currency: EUR',\n",
       "  'refreshed_at': '2021-02-17T02:39:19.365Z',\n",
       "  'newest_available_date': '2021-02-16',\n",
       "  'oldest_available_date': '2018-05-30',\n",
       "  'column_names': ['Date',\n",
       "   'Open',\n",
       "   'High',\n",
       "   'Low',\n",
       "   'Last',\n",
       "   'Volume',\n",
       "   'Turnover'],\n",
       "  'frequency': 'daily',\n",
       "  'type': 'Time Series',\n",
       "  'premium': False,\n",
       "  'limit': None,\n",
       "  'transform': None,\n",
       "  'column_index': None,\n",
       "  'start_date': '2019-01-01',\n",
       "  'end_date': '2019-01-31',\n",
       "  'data': [['2019-01-31', 5.001, 5.001, 5.0, 5.0, 1201.0, 6005.0],\n",
       "   ['2019-01-30', 5.02, 5.07, 5.019, 5.019, 481.0, 2429.0],\n",
       "   ['2019-01-29', 4.99, 5.02, 4.99, 5.02, 5404.0, 27128.0],\n",
       "   ['2019-01-28', 5.019, 5.019, 5.019, 5.019, 1.0, 5.0],\n",
       "   ['2019-01-25', 5.02, 5.02, 5.02, 5.02, 141.0, 708.0],\n",
       "   ['2019-01-24', 4.95, 5.02, 4.95, 5.02, 120.0, 602.0],\n",
       "   ['2019-01-23', 5.02, 5.02, 4.95, 5.0, 132.0, 660.0],\n",
       "   ['2019-01-22', 5.019, 5.02, 5.019, 5.02, 710.0, 3564.0],\n",
       "   ['2019-01-21', 5.0, 5.02, 5.0, 5.02, 1290.0, 6467.0],\n",
       "   ['2019-01-18', 5.0, 5.0, 4.9005, 4.9005, 990.0, 4936.0],\n",
       "   ['2019-01-17', 5.0, 5.02, 5.0, 5.02, 749.0, 3759.0],\n",
       "   ['2019-01-16', 5.0, 5.0, 5.0, 5.0, 100.0, 500.0],\n",
       "   ['2019-01-15', 5.019, 5.02, 5.019, 5.02, 148.0, 743.0],\n",
       "   ['2019-01-14', 5.02, 5.02, 5.02, 5.02, 460.0, 2309.0],\n",
       "   ['2019-01-11', 5.02, 5.02, 5.02, 5.02, 100.0, 502.0],\n",
       "   ['2019-01-10', 5.019, 5.02, 4.995, 5.02, 206.0, 1031.0],\n",
       "   ['2019-01-09', 4.9995, 5.02, 4.999, 5.02, 22931.0, 114685.0],\n",
       "   ['2019-01-08', 4.86, 4.9995, 4.86, 4.995, 30067.0, 150185.0],\n",
       "   ['2019-01-07', 5.199, 5.199, 4.99, 4.99, 706.0, 3550.0],\n",
       "   ['2019-01-04', 4.99, 5.01, 4.99, 5.0, 1336.0, 6679.0],\n",
       "   ['2019-01-03', 4.9905, 4.9905, 4.9905, 4.9905, 1.0, 5.0],\n",
       "   ['2019-01-02', 5.0, 5.49, 4.99, 4.99, 1590.0, 8316.0]],\n",
       "  'collapse': None,\n",
       "  'order': None,\n",
       "  'database_id': 5628}}"
      ]
     },
     "execution_count": 5,
     "metadata": {},
     "output_type": "execute_result"
    }
   ],
   "source": [
    "# Inspect the JSON structure of the object you created, and take note of how nested it is,\n",
    "# as well as the overall structure\n",
    "response.json()\n",
    "\n",
    "\n"
   ]
  },
  {
   "cell_type": "markdown",
   "metadata": {},
   "source": [
    "**Student note:** the JSON is indeed nested, but not in the manner I thought.  Oddly, the top-level dictionary only contains the key 'dataset', with the value being another dictionary containing every other datum. The key-value pairs mostly represent parameters of the query, with the actual column names and data being represented as lists, and lists of lists.  The restriction to refrain from using dataframes seems absolutely ludicrous given this data structure, but I'll see what I can do.  "
   ]
  },
  {
   "cell_type": "markdown",
   "metadata": {},
   "source": [
    "These are your tasks for this mini project:\n",
    "\n",
    "1. Collect data from the Franfurt Stock Exchange, for the ticker AFX_X, for the whole year 2017 (keep in mind that the date format is YYYY-MM-DD).\n",
    "2. Convert the returned JSON object into a Python dictionary.\n",
    "3. Calculate what the highest and lowest opening prices were for the stock in this period.\n",
    "4. What was the largest change in any one day (based on High and Low price)?\n",
    "5. What was the largest change between any two days (based on Closing Price)?\n",
    "6. What was the average daily trading volume during this year?\n",
    "7. (Optional) What was the median trading volume during this year. (Note: you may need to implement your own function for calculating the median.)"
   ]
  },
  {
   "cell_type": "markdown",
   "metadata": {
    "collapsed": true
   },
   "source": [
    "**Student note:** I am unable to find anything on Quandl that refers to the assigned data set - it's just not showing up in their search results."
   ]
  },
  {
   "cell_type": "markdown",
   "metadata": {},
   "source": [
    "**Student Note:  UPDATE:** Ok, so I did in fact find something on Quandl, strangely, through a Google search.  It didn't turn up at all with their on-site search bar.  Unfortunately the Frankfurt data are only available with a paid subscription.  The database code is 'XFRA'.  \n",
    "\n",
    "https://www.quandl.com/data/XFRA-Frankfurt-Stock-Exchange-Prices\n"
   ]
  },
  {
   "cell_type": "markdown",
   "metadata": {},
   "source": [
    "**Student Note:** having failed to obtain these data from Quandl, I'm arbitrarily choosing a different exchange and stock data in order to complete the exercise.  I'll be using a medical technology company called Voluntis (VTX), listed on the Euronext exchange.  Since this company was only listed starting in 2018, I'm going to use data from 2019."
   ]
  },
  {
   "cell_type": "code",
   "execution_count": 6,
   "metadata": {},
   "outputs": [],
   "source": [
    "voluntis = quandlquery('EURONEXT', 'VTX', '2019-01-01', '2019-12-31')\n",
    "\n",
    "# seeing as the raw JSON nests everything in a dictionary with the single 'dataset' key...\n",
    "voluntis = voluntis.json()['dataset']"
   ]
  },
  {
   "cell_type": "code",
   "execution_count": 28,
   "metadata": {},
   "outputs": [
    {
     "name": "stdout",
     "output_type": "stream",
     "text": [
      "['Date', 'Open', 'High', 'Low', 'Last', 'Volume', 'Turnover']\n",
      "[['2019-12-31', 2.53, 2.53, 2.44, 2.51, 31796.0, 79039.0], ['2019-12-30', 2.5, 2.6, 2.45, 2.52, 78378.0, 198146.0], ['2019-12-27', 2.3, 2.68, 2.3, 2.47, 192487.0, 473362.0], ['2019-12-24', 2.29, 2.34, 2.24, 2.28, 40339.0, 92837.0], ['2019-12-23', 2.25, 2.29, 2.19, 2.24, 45257.0, 100921.0]]\n"
     ]
    }
   ],
   "source": [
    "\n",
    "# let's also take the relevant lists out of this dictionary to make things easier\n",
    "column_names = voluntis['column_names']\n",
    "data = voluntis['data']\n",
    "\n",
    "print(column_names)\n",
    "print(data[:5])\n",
    "# It would be SO MUCH EASIER to just put these into a dataframe!  "
   ]
  },
  {
   "cell_type": "code",
   "execution_count": 59,
   "metadata": {},
   "outputs": [],
   "source": [
    "# interesting to note that these data are in reverse chronological order\n",
    "# this is not a method I would ever see myself using\n",
    "dates = []\n",
    "opens = []\n",
    "highs = []\n",
    "lows = []\n",
    "lasts = []\n",
    "volumes = []\n",
    "turnovers = []\n",
    "intraday_changes = []\n",
    "interday_changes = []\n",
    "for i in range(len(data)):\n",
    "    record = data[i]\n",
    "    dates.append(record[0])\n",
    "    opens.append(record[1])\n",
    "    highs.append(record[2])\n",
    "    lows.append(record[3])\n",
    "    lasts.append(record[4])\n",
    "    volumes.append(record[5])\n",
    "    turnovers.append(record[6])\n",
    "    intraday_changes.append(abs(record[2] - record[3]))\n",
    "for i in range(len(data) - 1):\n",
    "    record = data[i]\n",
    "    next_record = data[i + 1]\n",
    "    interday_changes.append(abs(record[4] - next_record[4]))"
   ]
  },
  {
   "cell_type": "code",
   "execution_count": 27,
   "metadata": {},
   "outputs": [
    {
     "name": "stdout",
     "output_type": "stream",
     "text": [
      "Highest opening price of 5.999 occurred on 2019-03-08\n",
      "Lowest opening price of 0.75 occurred on 2019-06-28\n"
     ]
    }
   ],
   "source": [
    "# problem 3: highest and lowest opening prices, and, more challenging, the corresponding dates\n",
    "\n",
    "max_date = dates[opens.index(max(opens))]\n",
    "min_date = dates[opens.index(min(opens))]\n",
    "print(\"Highest opening price of\", max(opens), \"occurred on\", max_date)\n",
    "print(\"Lowest opening price of\", min(opens), \"occurred on\", min_date)\n"
   ]
  },
  {
   "cell_type": "code",
   "execution_count": 32,
   "metadata": {},
   "outputs": [
    {
     "name": "stdout",
     "output_type": "stream",
     "text": [
      "The largest change on one day of 1.69 occurred on 2019-08-01 with a high of 2.95 and a low of 1.26\n"
     ]
    }
   ],
   "source": [
    "# problem 4:  greatest change between high and low in a single day\n",
    "mci = intraday_changes.index(max(intraday_changes))\n",
    "print(\"The largest change on one day of\", round(max(intraday_changes),2), \"occurred on\", dates[mci], \"with a high of\", highs[mci], \"and a low of\", lows[mci])\n"
   ]
  },
  {
   "cell_type": "code",
   "execution_count": 41,
   "metadata": {},
   "outputs": [
    {
     "name": "stdout",
     "output_type": "stream",
     "text": [
      "On 2019-07-31 the closing price was 1.085 and on 2019-08-01 the closing price was 2.43\n",
      "This represents the greatest difference in consecutive closing prices of 1.345\n"
     ]
    }
   ],
   "source": [
    "# problem 5:  greatest change between consecutive days\n",
    "mci = interday_changes.index(max(interday_changes))\n",
    "\n",
    "\n",
    "print(\"On\", dates[mci+1], \"the closing price was\", lasts[mci+1], \"and on\", dates[mci], \"the closing price was\", lasts[mci])\n",
    "print(\"This represents the greatest difference in consecutive closing prices of\", round(max(interday_changes),3))"
   ]
  },
  {
   "cell_type": "code",
   "execution_count": 44,
   "metadata": {},
   "outputs": [
    {
     "name": "stdout",
     "output_type": "stream",
     "text": [
      "The average trading volume for the year was 80597.56\n"
     ]
    }
   ],
   "source": [
    "# problem 6:  average trading volume over the year\n",
    "avg_vol = round((sum(volumes) / len(volumes)), 2)\n",
    "print(\"The average trading volume for the year was\", avg_vol)"
   ]
  },
  {
   "cell_type": "code",
   "execution_count": 80,
   "metadata": {},
   "outputs": [
    {
     "name": "stdout",
     "output_type": "stream",
     "text": [
      "12.2\n",
      "9\n"
     ]
    }
   ],
   "source": [
    "# problem 7:  median trading volume \n",
    "\n",
    "def median(list):\n",
    "    sorted = list\n",
    "    sorted.sort()\n",
    "    n = len(list)\n",
    "    if n % 2 == 1:\n",
    "        med = sorted[int((n+1)/2)]\n",
    "    elif n % 2 == 0:\n",
    "        med = (sorted[int(n/2)] + sorted[int((n/2)+1)]) / 2\n",
    "    return(med)\n",
    "# let's test this\n",
    "alist = [11, 2, 5, 324, 7, 13.4]\n",
    "print(median(alist))\n",
    "blist = [0, 0, 1, 1, 3, 5, 9, 15, 25, 41, 67]\n",
    "print(median(blist))"
   ]
  },
  {
   "cell_type": "code",
   "execution_count": 82,
   "metadata": {},
   "outputs": [
    {
     "name": "stdout",
     "output_type": "stream",
     "text": [
      "The median trading volume for the year was 14884.0\n"
     ]
    }
   ],
   "source": [
    "# median function seems to work just fine\n",
    "# median trading volume for 2019:\n",
    "\n",
    "med_vol = median(volumes)\n",
    "print(\"The median trading volume for the year was\", med_vol)"
   ]
  },
  {
   "cell_type": "code",
   "execution_count": null,
   "metadata": {},
   "outputs": [],
   "source": []
  }
 ],
 "metadata": {
  "kernelspec": {
   "display_name": "Python 3",
   "language": "python",
   "name": "python3"
  },
  "language_info": {
   "codemirror_mode": {
    "name": "ipython",
    "version": 3
   },
   "file_extension": ".py",
   "mimetype": "text/x-python",
   "name": "python",
   "nbconvert_exporter": "python",
   "pygments_lexer": "ipython3",
   "version": "3.7.4"
  }
 },
 "nbformat": 4,
 "nbformat_minor": 2
}
